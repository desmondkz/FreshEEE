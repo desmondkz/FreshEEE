{
 "cells": [
  {
   "cell_type": "code",
   "execution_count": null,
   "metadata": {},
   "outputs": [],
   "source": []
  },
  {
   "cell_type": "code",
   "execution_count": null,
   "metadata": {},
   "outputs": [],
   "source": []
  },
  {
   "cell_type": "code",
   "execution_count": null,
   "metadata": {},
   "outputs": [],
   "source": []
  },
  {
   "cell_type": "code",
   "execution_count": null,
   "metadata": {},
   "outputs": [],
   "source": []
  },
  {
   "cell_type": "code",
   "execution_count": 13,
   "metadata": {},
   "outputs": [],
   "source": [
    "import pandas as pd\n",
    "import smtplib\n",
    "import imaplib\n",
    "import email\n",
    "import webbrowser\n",
    "import os\n",
    "import datetime\n",
    "import unicodedata\n",
    "\n",
    "from pprint import pprint\n",
    "from email.message import EmailMessage\n",
    "from email.header import decode_header\n",
    "from firebase import firebase\n",
    "\n",
    "from tqdm.notebook import tqdm\n",
    "\n",
    "from time import sleep"
   ]
  },
  {
   "cell_type": "code",
   "execution_count": 26,
   "metadata": {},
   "outputs": [],
   "source": [
    "def push_email(imap, firebase, email_index):\n",
    "    res, data = imap.fetch(str(email_index), \"(RFC822)\")\n",
    "    data_tuple, data_bytes = tuple(data)\n",
    "    msg = email.message_from_bytes(data_tuple[1])\n",
    "    subject = decode_header(msg[\"Subject\"])[0][0].replace(\"\\n\", \"\").replace(\"\\r\", \"\").replace(\"Fwd: \", \"\")\n",
    "    if isinstance(subject, bytes): \n",
    "        subject = subject.decode()\n",
    "    sender = msg.get(\"From\")\n",
    "    body = \"\"\n",
    "\n",
    "    if msg.is_multipart():\n",
    "        for part in msg.walk():\n",
    "            ctype = part.get_content_type()\n",
    "            cdispo = str(part.get('Content-Disposition'))\n",
    "            # print(ctype)\n",
    "            # skip any text/plain (txt) attachments\n",
    "            # if ctype == 'text/plain' and 'attachment' not in cdispo:\n",
    "\n",
    "            if ctype == 'text/html' and 'attachment' not in cdispo:\n",
    "                body = part.get_payload(decode=True)  # decode\n",
    "                break\n",
    "            # if ctype == 'image/jpeg':\n",
    "            #     jpeg = part.get_payload(decode=False)\n",
    "            # if ctype == 'image/png':\n",
    "            #     png = part.get_payload(decode=True)\n",
    "            \n",
    "    # not multipart - i.e. plain text, no attachments, keeping fingers crossed\n",
    "    else:\n",
    "        body = b.get_payload(decode=True)\n",
    "\n",
    "    dt = datetime.datetime.strptime(msg[\"date\"], \"%a, %d %b %Y %H:%M:%S %z\")\n",
    "    unixtime = dt.timestamp()\n",
    "\n",
    "    splits = sender.split()\n",
    "    sender_name = splits[0]\n",
    "    sender_email = splits[1][1:-1]\n",
    "\n",
    "    out_email_dict = {}\n",
    "\n",
    "    out_email_dict[\"subject\"] = subject\n",
    "    out_email_dict[\"sender\"] = sender\n",
    "    out_email_dict[\"sender_name\"] = sender_name\n",
    "    out_email_dict[\"sender_email\"] = sender_email\n",
    "    out_email_dict[\"datetime\"] = unixtime\n",
    "    out_email_dict[\"body_html\"] = unicodedata.normalize(\"NFKD\",  body.decode(\"cp1251\")).replace('\\n', ' ').replace('\\r', ' ')\n",
    "\n",
    "    data = out_email_dict\n",
    "    result = firebase.post('/email_updates', data)\n",
    "\n"
   ]
  },
  {
   "cell_type": "code",
   "execution_count": 29,
   "metadata": {
    "tags": []
   },
   "outputs": [
    {
     "output_type": "stream",
     "name": "stdout",
     "text": [
      "7\n"
     ]
    }
   ],
   "source": [
    "EMAIL_ADDRESS = \"fresheeeupdates@gmail.com\"\n",
    "EMAIL_PASSWORD = \"Desmondkz5683,.\"\n",
    "\n",
    "# create IMAP4 class the SSL\n",
    "imap = imaplib.IMAP4_SSL(\"imap.gmail.com\")\n",
    "# authenticate\n",
    "imap.login(EMAIL_ADDRESS, EMAIL_PASSWORD)\n",
    "\n",
    "status, messages = imap.select(\"INBOX\")\n",
    "\n",
    "fb = firebase.FirebaseApplication(\"https://fresheee-2020.firebaseio.com/\", None)\n",
    "\n",
    "num_emails = int(messages[0])\n",
    "\n",
    "print(num_emails)\n",
    "\n",
    "for i in range(1,2):\n",
    "    push_email(imap=imap, firebase=fb, email_index=i)\n",
    "\n",
    "# html_file= open(\"email.html\",\"w\", encoding='utf-8')\n",
    "# html_file.write(body.decode(\"cp1251\"))\n",
    "# html_file.close()"
   ]
  },
  {
   "cell_type": "code",
   "execution_count": 39,
   "metadata": {},
   "outputs": [
    {
     "output_type": "stream",
     "name": "stdout",
     "text": [
      "6 emails in Firebase\n6 emails in Inbox\nNo new email!\n"
     ]
    }
   ],
   "source": [
    "# Email login\n",
    "EMAIL_ADDRESS = \"fresheeeupdates@gmail.com\"\n",
    "EMAIL_PASSWORD = \"Desmondkz5683,.\"\n",
    "# create IMAP4 class the SSL\n",
    "imap = imaplib.IMAP4_SSL(\"imap.gmail.com\")\n",
    "# authenticate\n",
    "imap.login(EMAIL_ADDRESS, EMAIL_PASSWORD)\n",
    "\n",
    "# Firebase\n",
    "fb = firebase.FirebaseApplication(\"https://fresheee-2020.firebaseio.com/\", None)\n",
    "num_emails = len(fb.get('/email_updates', None))\n",
    "\n",
    "status, messages = imap.select(\"INBOX\")\n",
    "\n",
    "\n",
    "print(f\"{num_emails} emails in Firebase\")\n",
    "print(f\"{int(messages[0])} emails in Inbox\")\n",
    "\n",
    "if num_emails < int(messages[0]):\n",
    "    print(\"You've got mail!\")\n",
    "    for i in range(num_emails+1,  int(messages[0])+1):\n",
    "        latest_email_index = num_emails\n",
    "        push_email(imap=imap, firebase=fb, email_index=i)\n",
    "else:\n",
    "    print(\"No new email!\")\n"
   ]
  }
 ],
 "metadata": {
  "kernelspec": {
   "display_name": "Python 3",
   "language": "python",
   "name": "python3"
  },
  "language_info": {
   "codemirror_mode": {
    "name": "ipython",
    "version": 3
   },
   "file_extension": ".py",
   "mimetype": "text/x-python",
   "name": "python",
   "nbconvert_exporter": "python",
   "pygments_lexer": "ipython3",
   "version": "3.8.3-final"
  }
 },
 "nbformat": 4,
 "nbformat_minor": 2
}